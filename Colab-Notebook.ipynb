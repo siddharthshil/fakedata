{
  "nbformat": 4,
  "nbformat_minor": 0,
  "metadata": {
    "colab": {
      "name": "Fake Reviews Detection.ipynb",
      "provenance": [],
      "collapsed_sections": [],
      "authorship_tag": "ABX9TyOBeoq9VwV6B4967PJ04rdG",
      "include_colab_link": true
    },
    "kernelspec": {
      "display_name": "Python 3",
      "language": "python",
      "name": "python3"
    },
    "language_info": {
      "codemirror_mode": {
        "name": "ipython",
        "version": 3
      },
      "file_extension": ".py",
      "mimetype": "text/x-python",
      "name": "python",
      "nbconvert_exporter": "python",
      "pygments_lexer": "ipython3",
      "version": "3.6.1"
    }
  },
  "cells": [
    {
      "cell_type": "markdown",
      "metadata": {
        "id": "view-in-github",
        "colab_type": "text"
      },
      "source": [
        "<a href=\"https://colab.research.google.com/github/Shraeyas/Fake-Reviews-Detection/blob/master/Colab-Notebook.ipynb\" target=\"_parent\"><img src=\"https://colab.research.google.com/assets/colab-badge.svg\" alt=\"Open In Colab\"/></a>"
      ]
    },
    {
      "cell_type": "markdown",
      "metadata": {
        "colab_type": "text",
        "id": "V87qcVd0hEC5"
      },
      "source": [
        "###**Clone Repository from https://github.com/Shraeyas/Fake-Reviews-Detection**"
      ]
    },
    {
      "cell_type": "code",
      "metadata": {
        "colab_type": "code",
        "id": "HiqR3Tt_g_6Y",
        "colab": {}
      },
      "source": [
        "!git clone https://github.com/Shraeyas/Fake-Reviews-Detection\n",
        "%cd Fake-Reviews-Detection"
      ],
      "execution_count": null,
      "outputs": []
    },
    {
      "cell_type": "markdown",
      "metadata": {
        "colab_type": "text",
        "id": "TOhNn5ClhM04"
      },
      "source": [
        "###**Install, Create and activate a Python Virtual Environment**"
      ]
    },
    {
      "cell_type": "code",
      "metadata": {
        "colab_type": "code",
        "id": "Sda60a56hWGc",
        "colab": {}
      },
      "source": [
        "!pip install virtualenv\n",
        "!virtualenv venv\n",
        "!. venv/bin/activate"
      ],
      "execution_count": null,
      "outputs": []
    },
    {
      "cell_type": "markdown",
      "metadata": {
        "colab_type": "text",
        "id": "QoJdFJtdiZzA"
      },
      "source": [
        "###**Install Requirements by executing the following command**"
      ]
    },
    {
      "cell_type": "code",
      "metadata": {
        "colab_type": "code",
        "id": "XuCSOpRciir7",
        "colab": {}
      },
      "source": [
        "!pip install -r requirements.txt"
      ],
      "execution_count": null,
      "outputs": []
    },
    {
      "cell_type": "markdown",
      "metadata": {
        "colab_type": "text",
        "id": "OxjB1VbShyWp"
      },
      "source": [
        "###**After Restarting runtime, execute the Following Commands**"
      ]
    },
    {
      "cell_type": "code",
      "metadata": {
        "colab_type": "code",
        "id": "ysa_0Ua4h47p",
        "colab": {}
      },
      "source": [
        "%cd Fake-Reviews-Detection\n",
        "!. venv/bin/activate\n",
        "!pip install -r requirements.txt"
      ],
      "execution_count": null,
      "outputs": []
    },
    {
      "cell_type": "markdown",
      "metadata": {
        "colab_type": "text",
        "id": "5K_HZIPohjSh"
      },
      "source": [
        "###**Run main.py file to Train Classifiers and Visualise Results**"
      ]
    },
    {
      "cell_type": "code",
      "metadata": {
        "colab_type": "code",
        "id": "UIStGyUyhYMi",
        "colab": {}
      },
      "source": [
        "!python main.py"
      ],
      "execution_count": null,
      "outputs": []
    },
    {
      "cell_type": "markdown",
      "metadata": {
        "colab_type": "text",
        "id": "-qvNAibIh__O"
      },
      "source": [
        "###**Run deploy.py file to Test on your own Inputs**"
      ]
    },
    {
      "cell_type": "code",
      "metadata": {
        "colab_type": "code",
        "id": "HtVhzSHgh9YL",
        "colab": {}
      },
      "source": [
        "!python deploy.py"
      ],
      "execution_count": null,
      "outputs": []
    },
    {
      "cell_type": "markdown",
      "metadata": {
        "colab_type": "text",
        "id": "QIj_tqEGiJ0g"
      },
      "source": [
        "###**Execute the following command to run a local server**"
      ]
    },
    {
      "cell_type": "code",
      "metadata": {
        "colab_type": "code",
        "id": "zp3B1ggqiRVQ",
        "colab": {}
      },
      "source": [
        "!python server.py"
      ],
      "execution_count": null,
      "outputs": []
    }
  ]
}
